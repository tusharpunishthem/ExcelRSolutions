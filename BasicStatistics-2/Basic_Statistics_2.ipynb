{
  "nbformat": 4,
  "nbformat_minor": 0,
  "metadata": {
    "colab": {
      "provenance": []
    },
    "kernelspec": {
      "name": "python3",
      "display_name": "Python 3"
    },
    "language_info": {
      "name": "python"
    }
  },
  "cells": [
    {
      "cell_type": "code",
      "execution_count": 1,
      "metadata": {
        "id": "h357CvuAOD4H"
      },
      "outputs": [],
      "source": [
        "#Step 1: Import Libraries\n",
        "#First, we'll import the necessary libraries.\n",
        "# Import required libraries\n",
        "import numpy as np\n",
        "import scipy.stats as stats\n"
      ]
    },
    {
      "cell_type": "code",
      "source": [
        "#Step 2: Define the Data\n",
        "# Durability data (in millions of characters)\n",
        "durability_data = [1.13, 1.55, 1.43, 0.92, 1.25, 1.36, 1.32, 0.85, 1.07, 1.48, 1.20, 1.33, 1.18, 1.22, 1.29]\n"
      ],
      "metadata": {
        "id": "l6cXInZDatDy"
      },
      "execution_count": 2,
      "outputs": []
    },
    {
      "cell_type": "code",
      "source": [
        "#Step 3: Calculate Sample Mean and Standard Deviation\n",
        "# Compute sample statistics\n",
        "sample_mean = np.mean(durability_data)\n",
        "sample_std = np.std(durability_data, ddof=1)  # Use ddof=1 for sample standard deviation\n",
        "n = len(durability_data)\n",
        "\n",
        "print(f\"Sample Mean: {sample_mean:.2f}\")\n",
        "print(f\"Sample Standard Deviation: {sample_std:.2f}\")\n",
        "print(f\"Sample Size: {n}\")\n"
      ],
      "metadata": {
        "colab": {
          "base_uri": "https://localhost:8080/"
        },
        "id": "ppyCSJVPbH7t",
        "outputId": "7bc906f9-5bf8-4ee1-ef97-f4c0797e6e9b"
      },
      "execution_count": 3,
      "outputs": [
        {
          "output_type": "stream",
          "name": "stdout",
          "text": [
            "Sample Mean: 1.24\n",
            "Sample Standard Deviation: 0.19\n",
            "Sample Size: 15\n"
          ]
        }
      ]
    },
    {
      "cell_type": "code",
      "source": [
        "#Step 4: Confidence Interval Using Sample Standard Deviation (t-Distribution)\n",
        "# Confidence level and degrees of freedom\n",
        "confidence_level = 0.99\n",
        "alpha = 1 - confidence_level\n",
        "degrees_of_freedom = n - 1\n",
        "\n",
        "# t-critical value\n",
        "t_critical = stats.t.ppf(1 - alpha/2, df=degrees_of_freedom)\n",
        "\n",
        "# Margin of error\n",
        "margin_of_error_t = t_critical * (sample_std / np.sqrt(n))\n",
        "\n",
        "# Confidence interval\n",
        "lower_bound_t = sample_mean - margin_of_error_t\n",
        "upper_bound_t = sample_mean + margin_of_error_t\n",
        "\n",
        "print(f\"99% Confidence Interval (Sample Std): ({lower_bound_t:.2f}, {upper_bound_t:.2f})\")\n"
      ],
      "metadata": {
        "colab": {
          "base_uri": "https://localhost:8080/"
        },
        "id": "CItQvv6YbvN2",
        "outputId": "869f6ef0-33e5-4005-a430-be6be3a0a8b1"
      },
      "execution_count": 4,
      "outputs": [
        {
          "output_type": "stream",
          "name": "stdout",
          "text": [
            "99% Confidence Interval (Sample Std): (1.09, 1.39)\n"
          ]
        }
      ]
    },
    {
      "cell_type": "code",
      "source": [
        "#Step 5: Confidence Interval Using Known Population Standard Deviation (z-Distribution)\n",
        "# Known population standard deviation\n",
        "population_std = 0.2\n",
        "\n",
        "# z-critical value\n",
        "z_critical = stats.norm.ppf(1 - alpha/2)\n",
        "\n",
        "# Margin of error\n",
        "margin_of_error_z = z_critical * (population_std / np.sqrt(n))\n",
        "\n",
        "# Confidence interval\n",
        "lower_bound_z = sample_mean - margin_of_error_z\n",
        "upper_bound_z = sample_mean + margin_of_error_z\n",
        "\n",
        "print(f\"99% Confidence Interval (Known Pop Std): ({lower_bound_z:.2f}, {upper_bound_z:.2f})\")\n",
        "\n"
      ],
      "metadata": {
        "colab": {
          "base_uri": "https://localhost:8080/"
        },
        "id": "66eQ5EBxb9XP",
        "outputId": "045b2967-929a-4181-b40a-ab68a3d3d8a3"
      },
      "execution_count": 5,
      "outputs": [
        {
          "output_type": "stream",
          "name": "stdout",
          "text": [
            "99% Confidence Interval (Known Pop Std): (1.11, 1.37)\n"
          ]
        }
      ]
    },
    {
      "cell_type": "code",
      "source": [],
      "metadata": {
        "id": "QtyM5q3mcPon"
      },
      "execution_count": null,
      "outputs": []
    }
  ]
}