{
  "nbformat": 4,
  "nbformat_minor": 0,
  "metadata": {
    "colab": {
      "provenance": []
    },
    "kernelspec": {
      "name": "python3",
      "display_name": "Python 3"
    },
    "language_info": {
      "name": "python"
    }
  },
  "cells": [
    {
      "cell_type": "code",
      "execution_count": 1,
      "metadata": {
        "id": "wIXNhO4F8gJO"
      },
      "outputs": [],
      "source": [
        "import numpy as np\n",
        "import pandas as pd\n",
        "from scipy.stats import chi2_contingency, chi2\n",
        "\n",
        "# Data provided\n",
        "# Contingency table\n",
        "observed = np.array([\n",
        "    [50, 70],  # Very Satisfied\n",
        "    [80, 100], # Satisfied\n",
        "    [60, 90],  # Neutral\n",
        "    [30, 50],  # Unsatisfied\n",
        "    [20, 50]   # Very Unsatisfied\n",
        "])"
      ]
    },
    {
      "cell_type": "code",
      "source": [
        "# Step 1: State the Hypotheses\n",
        "# H0: There is no association between device type and customer satisfaction level.\n",
        "# H1: There is an association between device type and customer satisfaction level.\n"
      ],
      "metadata": {
        "id": "ZkXeBgh69SvB"
      },
      "execution_count": 2,
      "outputs": []
    },
    {
      "cell_type": "code",
      "source": [
        "# Step 2: Compute the Chi-Square Statistic\n",
        "chi2_stat, p, dof, expected = chi2_contingency(observed)\n",
        "# Step 3: Determine the Critical Value\n",
        "alpha = 0.05  # Significance level\n",
        "critical_value = chi2.ppf(1 - alpha, dof)\n",
        "\n",
        "# Step 4: Make a Decision\n",
        "reject_null = chi2_stat > critical_value"
      ],
      "metadata": {
        "id": "TZgoNlgv9jUC"
      },
      "execution_count": 4,
      "outputs": []
    },
    {
      "cell_type": "code",
      "source": [
        "# Output Results\n",
        "print(\"Observed Data:\")\n",
        "print(pd.DataFrame(observed, columns=[\"Smart Thermostat\", \"Smart Light\"],\n",
        "                   index=[\"Very Satisfied\", \"Satisfied\", \"Neutral\", \"Unsatisfied\", \"Very Unsatisfied\"]))\n",
        "print(\"\\nExpected Data:\")\n",
        "print(pd.DataFrame(expected, columns=[\"Smart Thermostat\", \"Smart Light\"],\n",
        "                   index=[\"Very Satisfied\", \"Satisfied\", \"Neutral\", \"Unsatisfied\", \"Very Unsatisfied\"]))\n",
        "print(f\"\\nChi-Square Statistic: {chi2_stat:.4f}\")\n",
        "print(f\"Degrees of Freedom: {dof}\")\n",
        "print(f\"Critical Value: {critical_value:.4f}\")\n",
        "print(f\"P-Value: {p:.4f}\")\n",
        "print(\"\\nDecision:\")\n",
        "if reject_null:\n",
        "    print(\"Reject the null hypothesis: There is a significant association between device type and customer satisfaction level.\")\n",
        "else:\n",
        "    print(\"Fail to reject the null hypothesis: There is no significant association between device type and customer satisfaction level.\")\n"
      ],
      "metadata": {
        "colab": {
          "base_uri": "https://localhost:8080/"
        },
        "id": "TlgvsPaQ-tkj",
        "outputId": "f62d6763-0e47-4e60-94eb-4b54817c74d2"
      },
      "execution_count": 5,
      "outputs": [
        {
          "output_type": "stream",
          "name": "stdout",
          "text": [
            "Observed Data:\n",
            "                  Smart Thermostat  Smart Light\n",
            "Very Satisfied                  50           70\n",
            "Satisfied                       80          100\n",
            "Neutral                         60           90\n",
            "Unsatisfied                     30           50\n",
            "Very Unsatisfied                20           50\n",
            "\n",
            "Expected Data:\n",
            "                  Smart Thermostat  Smart Light\n",
            "Very Satisfied                48.0         72.0\n",
            "Satisfied                     72.0        108.0\n",
            "Neutral                       60.0         90.0\n",
            "Unsatisfied                   32.0         48.0\n",
            "Very Unsatisfied              28.0         42.0\n",
            "\n",
            "Chi-Square Statistic: 5.6382\n",
            "Degrees of Freedom: 4\n",
            "Critical Value: 9.4877\n",
            "P-Value: 0.2278\n",
            "\n",
            "Decision:\n",
            "Fail to reject the null hypothesis: There is no significant association between device type and customer satisfaction level.\n"
          ]
        }
      ]
    }
  ]
}