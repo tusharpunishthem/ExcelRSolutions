{
  "nbformat": 4,
  "nbformat_minor": 0,
  "metadata": {
    "colab": {
      "provenance": []
    },
    "kernelspec": {
      "name": "python3",
      "display_name": "Python 3"
    },
    "language_info": {
      "name": "python"
    }
  },
  "cells": [
    {
      "cell_type": "code",
      "execution_count": 2,
      "metadata": {
        "id": "vgXr7p-2gtFA"
      },
      "outputs": [],
      "source": [
        "import scipy.stats as stats\n",
        "\n",
        "# Given data\n",
        "sample_mean = 3050  # Sample mean weekly cost\n",
        "mu_x = 600  # Mean number of units produced\n",
        "sigma_x = 25  # Standard deviation of units produced\n",
        "n = 25  # Sample size\n",
        "alpha = 0.05  # Significance level\n",
        "\n"
      ]
    },
    {
      "cell_type": "code",
      "source": [
        "# 1. State the Hypotheses\n",
        "# Null Hypothesis (H0): Weekly operating cost follows the given model (no increase)\n",
        "# Alternative Hypothesis (H1): Weekly operating cost is higher than the model suggests\n",
        "\n"
      ],
      "metadata": {
        "id": "5h8QVFwLm1zO"
      },
      "execution_count": 3,
      "outputs": []
    },
    {
      "cell_type": "code",
      "source": [
        "# 2. Calculate the Test Statistic\n",
        "mu_w = 1000 + 5 * mu_x  # Theoretical mean weekly cost according to the model\n",
        "sigma_w = 5 * sigma_x  # Standard deviation of weekly cost\n",
        "z = (sample_mean - mu_w) / (sigma_w / (n**0.5))\n",
        "\n",
        "print(f\"Test Statistic (z): {z}\")\n"
      ],
      "metadata": {
        "colab": {
          "base_uri": "https://localhost:8080/"
        },
        "id": "6k_CQwGMm35j",
        "outputId": "197a90f3-739f-4921-ac72-302310347749"
      },
      "execution_count": 4,
      "outputs": [
        {
          "output_type": "stream",
          "name": "stdout",
          "text": [
            "Test Statistic (z): -38.0\n"
          ]
        }
      ]
    },
    {
      "cell_type": "code",
      "source": [
        "# 3. Determine the Critical Value\n",
        "critical_value = stats.norm.ppf(1 - alpha)  # One-tailed test (right-tailed)\n",
        "\n",
        "print(f\"Critical Value (z-alpha): {critical_value}\")\n",
        "\n"
      ],
      "metadata": {
        "colab": {
          "base_uri": "https://localhost:8080/"
        },
        "id": "WvROmM8nnG2d",
        "outputId": "89c11577-7401-4483-db67-5f7864a5aa38"
      },
      "execution_count": 5,
      "outputs": [
        {
          "output_type": "stream",
          "name": "stdout",
          "text": [
            "Critical Value (z-alpha): 1.6448536269514722\n"
          ]
        }
      ]
    },
    {
      "cell_type": "code",
      "source": [
        "# 4. Make a Decision\n",
        "if z > critical_value:\n",
        "    decision = \"Reject the null hypothesis.\"\n",
        "else:\n",
        "    decision = \"Fail to reject the null hypothesis.\"\n",
        "\n",
        "print(f\"Decision: {decision}\")\n",
        "\n"
      ],
      "metadata": {
        "colab": {
          "base_uri": "https://localhost:8080/"
        },
        "id": "a-yDca7onJhN",
        "outputId": "e4a25631-e43d-4164-f102-c023a903ef8f"
      },
      "execution_count": 6,
      "outputs": [
        {
          "output_type": "stream",
          "name": "stdout",
          "text": [
            "Decision: Fail to reject the null hypothesis.\n"
          ]
        }
      ]
    },
    {
      "cell_type": "code",
      "source": [
        "# 5. Conclusion\n",
        "if decision == \"Reject the null hypothesis.\":\n",
        "    print(\"There is strong evidence to support the restaurant owners' claim that the weekly operating costs are higher than the model suggests.\")\n",
        "else:\n",
        "    print(\"There is not enough evidence to support the restaurant owners' claim that the weekly operating costs are higher than the model suggests.\")"
      ],
      "metadata": {
        "colab": {
          "base_uri": "https://localhost:8080/"
        },
        "id": "RpShelAanNqZ",
        "outputId": "d1dbd7a8-6c47-4b09-d9e5-e9fbd7824d5b"
      },
      "execution_count": 7,
      "outputs": [
        {
          "output_type": "stream",
          "name": "stdout",
          "text": [
            "There is not enough evidence to support the restaurant owners' claim that the weekly operating costs are higher than the model suggests.\n"
          ]
        }
      ]
    },
    {
      "cell_type": "code",
      "source": [
        "\"\"\"Explanation:\n",
        "\n",
        "Hypotheses:\n",
        "\n",
        "Null Hypothesis (H0): The weekly operating cost follows the given model (no increase).\n",
        "Alternative Hypothesis (H1): The weekly operating cost is higher than the model suggests.\n",
        "Test Statistic:\n",
        "\n",
        "Calculate the theoretical mean weekly cost (mu_w) using the given model.\n",
        "Calculate the standard deviation of weekly cost (sigma_w).\n",
        "Calculate the z-score using the formula: z = (sample_mean - mu_w) / (sigma_w / sqrt(n)).\n",
        "Critical Value:\n",
        "\n",
        "Find the critical value for a one-tailed test at the 0.05 significance level using stats.norm.ppf(1 - alpha).\n",
        "Decision:\n",
        "\n",
        "Compare the calculated z-score with the critical value.\n",
        "If the z-score is greater than the critical value, reject the null hypothesis.\n",
        "Otherwise, fail to reject the null hypothesis.\n",
        "Conclusion:\n",
        "\n",
        "Based on the decision, conclude whether there is strong evidence to support the restaurant owners' claim.\n",
        "This code performs the hypothesis testing and provides the results. You can run this code in Google Colab or any other Python environment.\n",
        "\n",
        "Note:\n",
        "\n",
        "This analysis assumes that the weekly operating costs are normally distributed.\n",
        "The given data and calculations are based on the provided information.\n",
        "The actual conclusion may vary depending on the calculated z-score and the critical value.\"\"\""
      ],
      "metadata": {
        "colab": {
          "base_uri": "https://localhost:8080/",
          "height": 87
        },
        "id": "M_0jcGLQpehh",
        "outputId": "4f242dbe-2b94-4359-93c7-1946dd1c6b90"
      },
      "execution_count": 8,
      "outputs": [
        {
          "output_type": "execute_result",
          "data": {
            "text/plain": [
              "\"Explanation:\\n\\nHypotheses:\\n\\nNull Hypothesis (H0): The weekly operating cost follows the given model (no increase).\\nAlternative Hypothesis (H1): The weekly operating cost is higher than the model suggests.\\nTest Statistic:\\n\\nCalculate the theoretical mean weekly cost (mu_w) using the given model.\\nCalculate the standard deviation of weekly cost (sigma_w).\\nCalculate the z-score using the formula: z = (sample_mean - mu_w) / (sigma_w / sqrt(n)).\\nCritical Value:\\n\\nFind the critical value for a one-tailed test at the 0.05 significance level using stats.norm.ppf(1 - alpha).\\nDecision:\\n\\nCompare the calculated z-score with the critical value.\\nIf the z-score is greater than the critical value, reject the null hypothesis.\\nOtherwise, fail to reject the null hypothesis.\\nConclusion:\\n\\nBased on the decision, conclude whether there is strong evidence to support the restaurant owners' claim.\\nThis code performs the hypothesis testing and provides the results. You can run this code in Google Colab or any other Python environment.\\n\\nNote:\\n\\nThis analysis assumes that the weekly operating costs are normally distributed.\\nThe given data and calculations are based on the provided information.\\nThe actual conclusion may vary depending on the calculated z-score and the critical value.\""
            ],
            "application/vnd.google.colaboratory.intrinsic+json": {
              "type": "string"
            }
          },
          "metadata": {},
          "execution_count": 8
        }
      ]
    }
  ]
}